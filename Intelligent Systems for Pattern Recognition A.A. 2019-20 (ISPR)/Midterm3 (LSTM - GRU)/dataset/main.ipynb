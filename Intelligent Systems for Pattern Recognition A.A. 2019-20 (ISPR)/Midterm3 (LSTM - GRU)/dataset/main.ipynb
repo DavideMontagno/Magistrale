{
 "cells": [
  {
   "cell_type": "code",
   "execution_count": 16,
   "metadata": {
    "tags": [
     "outputPrepend",
     "outputPrepend"
    ]
   },
   "outputs": [],
   "source": [
    "##################### Pre-Processing Text #########################\n",
    "path = \"./dataset/Trump/\"\n",
    "path2 = \"./dataset/Clinton/\"\n",
    "path_cleaned = \"./dataset/dataset-cleaned/Trump/\"\n",
    "path2_cleaned = \"./dataset/dataset-cleaned/Clinton/\"\n",
    "\n",
    "import re\n",
    "import os\n",
    "\n",
    "def clean_dataset(path,path_cleaned):\n",
    "    f_all = open(path_cleaned+\"single_effects.txt\",\"a+\")\n",
    "    for file in os.listdir(path):\n",
    "            with open(path+file) as f:\n",
    "                for i in range (0,2):\n",
    "                    f.readline()\n",
    "                for line in f:\n",
    "                    if(path == \"./dataset/Trump/\"):\n",
    "                        match = line[:7]\n",
    "                        if match in \"<TRUMP:>\":\n",
    "                            f_all.write(line[8:].lstrip())\n",
    "                    else:\n",
    "                            match = line[:9]\n",
    "                            if match in \"<CLINTON:>\":\n",
    "                                f_all.write(line[10:].lstrip())\n",
    "                        \n",
    "                f.close()\n",
    "    f_all.close()\n",
    "#clean_dataset(path,path_cleaned)\n",
    "#clean_dataset(path2,path2_cleaned)\n",
    "\n"
   ]
  },
  {
   "cell_type": "code",
   "execution_count": null,
   "metadata": {},
   "outputs": [],
   "source": []
  },
  {
   "cell_type": "code",
   "execution_count": null,
   "metadata": {},
   "outputs": [],
   "source": []
  }
 ],
 "metadata": {
  "language_info": {
   "codemirror_mode": {
    "name": "ipython",
    "version": 3
   },
   "file_extension": ".py",
   "mimetype": "text/x-python",
   "name": "python",
   "nbconvert_exporter": "python",
   "pygments_lexer": "ipython3",
   "version": "3.8.1-final"
  },
  "orig_nbformat": 2,
  "kernelspec": {
   "name": "python38164bitglobalconda1de3182bd0c5459097d779edcf49264a",
   "display_name": "Python 3.8.1 64-bit ('global': conda)"
  }
 },
 "nbformat": 4,
 "nbformat_minor": 2
}